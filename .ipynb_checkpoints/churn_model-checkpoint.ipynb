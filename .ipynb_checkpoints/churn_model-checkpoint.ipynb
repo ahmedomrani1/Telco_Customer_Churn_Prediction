{
 "cells": [
  {
   "cell_type": "markdown",
   "id": "d698dfd5",
   "metadata": {},
   "source": [
    "# Business Understanding \n",
    "- predict churn \n",
    "- classification \n",
    "- the data set includes information about:\n",
    "<ol>\n",
    "<li>Customers who left within the last month </li>\n",
    "<li>Services that each customer has signed up for</li>\n",
    "<li>Customer account information</li>\n",
    "<li>Demographic info about customers</li>\n",
    "</ol>\n"
   ]
  },
  {
   "cell_type": "code",
   "execution_count": 1,
   "id": "e00f80a8",
   "metadata": {},
   "outputs": [],
   "source": [
    "import pandas as pd\n",
    "import numpy as np"
   ]
  },
  {
   "cell_type": "code",
   "execution_count": 2,
   "id": "815b2a40",
   "metadata": {},
   "outputs": [],
   "source": [
    "df = pd.read_csv(\"data/WA_Fn-UseC_-Telco-Customer-Churn.csv\")"
   ]
  },
  {
   "cell_type": "code",
   "execution_count": 3,
   "id": "7a849085",
   "metadata": {},
   "outputs": [
    {
     "data": {
      "text/html": [
       "<div>\n",
       "<style scoped>\n",
       "    .dataframe tbody tr th:only-of-type {\n",
       "        vertical-align: middle;\n",
       "    }\n",
       "\n",
       "    .dataframe tbody tr th {\n",
       "        vertical-align: top;\n",
       "    }\n",
       "\n",
       "    .dataframe thead th {\n",
       "        text-align: right;\n",
       "    }\n",
       "</style>\n",
       "<table border=\"1\" class=\"dataframe\">\n",
       "  <thead>\n",
       "    <tr style=\"text-align: right;\">\n",
       "      <th></th>\n",
       "      <th>customerID</th>\n",
       "      <th>gender</th>\n",
       "      <th>SeniorCitizen</th>\n",
       "      <th>Partner</th>\n",
       "      <th>Dependents</th>\n",
       "      <th>tenure</th>\n",
       "      <th>PhoneService</th>\n",
       "      <th>MultipleLines</th>\n",
       "      <th>InternetService</th>\n",
       "      <th>OnlineSecurity</th>\n",
       "      <th>...</th>\n",
       "      <th>DeviceProtection</th>\n",
       "      <th>TechSupport</th>\n",
       "      <th>StreamingTV</th>\n",
       "      <th>StreamingMovies</th>\n",
       "      <th>Contract</th>\n",
       "      <th>PaperlessBilling</th>\n",
       "      <th>PaymentMethod</th>\n",
       "      <th>MonthlyCharges</th>\n",
       "      <th>TotalCharges</th>\n",
       "      <th>Churn</th>\n",
       "    </tr>\n",
       "  </thead>\n",
       "  <tbody>\n",
       "    <tr>\n",
       "      <th>0</th>\n",
       "      <td>7590-VHVEG</td>\n",
       "      <td>Female</td>\n",
       "      <td>0</td>\n",
       "      <td>Yes</td>\n",
       "      <td>No</td>\n",
       "      <td>1</td>\n",
       "      <td>No</td>\n",
       "      <td>No phone service</td>\n",
       "      <td>DSL</td>\n",
       "      <td>No</td>\n",
       "      <td>...</td>\n",
       "      <td>No</td>\n",
       "      <td>No</td>\n",
       "      <td>No</td>\n",
       "      <td>No</td>\n",
       "      <td>Month-to-month</td>\n",
       "      <td>Yes</td>\n",
       "      <td>Electronic check</td>\n",
       "      <td>29.85</td>\n",
       "      <td>29.85</td>\n",
       "      <td>No</td>\n",
       "    </tr>\n",
       "    <tr>\n",
       "      <th>1</th>\n",
       "      <td>5575-GNVDE</td>\n",
       "      <td>Male</td>\n",
       "      <td>0</td>\n",
       "      <td>No</td>\n",
       "      <td>No</td>\n",
       "      <td>34</td>\n",
       "      <td>Yes</td>\n",
       "      <td>No</td>\n",
       "      <td>DSL</td>\n",
       "      <td>Yes</td>\n",
       "      <td>...</td>\n",
       "      <td>Yes</td>\n",
       "      <td>No</td>\n",
       "      <td>No</td>\n",
       "      <td>No</td>\n",
       "      <td>One year</td>\n",
       "      <td>No</td>\n",
       "      <td>Mailed check</td>\n",
       "      <td>56.95</td>\n",
       "      <td>1889.5</td>\n",
       "      <td>No</td>\n",
       "    </tr>\n",
       "    <tr>\n",
       "      <th>2</th>\n",
       "      <td>3668-QPYBK</td>\n",
       "      <td>Male</td>\n",
       "      <td>0</td>\n",
       "      <td>No</td>\n",
       "      <td>No</td>\n",
       "      <td>2</td>\n",
       "      <td>Yes</td>\n",
       "      <td>No</td>\n",
       "      <td>DSL</td>\n",
       "      <td>Yes</td>\n",
       "      <td>...</td>\n",
       "      <td>No</td>\n",
       "      <td>No</td>\n",
       "      <td>No</td>\n",
       "      <td>No</td>\n",
       "      <td>Month-to-month</td>\n",
       "      <td>Yes</td>\n",
       "      <td>Mailed check</td>\n",
       "      <td>53.85</td>\n",
       "      <td>108.15</td>\n",
       "      <td>Yes</td>\n",
       "    </tr>\n",
       "    <tr>\n",
       "      <th>3</th>\n",
       "      <td>7795-CFOCW</td>\n",
       "      <td>Male</td>\n",
       "      <td>0</td>\n",
       "      <td>No</td>\n",
       "      <td>No</td>\n",
       "      <td>45</td>\n",
       "      <td>No</td>\n",
       "      <td>No phone service</td>\n",
       "      <td>DSL</td>\n",
       "      <td>Yes</td>\n",
       "      <td>...</td>\n",
       "      <td>Yes</td>\n",
       "      <td>Yes</td>\n",
       "      <td>No</td>\n",
       "      <td>No</td>\n",
       "      <td>One year</td>\n",
       "      <td>No</td>\n",
       "      <td>Bank transfer (automatic)</td>\n",
       "      <td>42.30</td>\n",
       "      <td>1840.75</td>\n",
       "      <td>No</td>\n",
       "    </tr>\n",
       "    <tr>\n",
       "      <th>4</th>\n",
       "      <td>9237-HQITU</td>\n",
       "      <td>Female</td>\n",
       "      <td>0</td>\n",
       "      <td>No</td>\n",
       "      <td>No</td>\n",
       "      <td>2</td>\n",
       "      <td>Yes</td>\n",
       "      <td>No</td>\n",
       "      <td>Fiber optic</td>\n",
       "      <td>No</td>\n",
       "      <td>...</td>\n",
       "      <td>No</td>\n",
       "      <td>No</td>\n",
       "      <td>No</td>\n",
       "      <td>No</td>\n",
       "      <td>Month-to-month</td>\n",
       "      <td>Yes</td>\n",
       "      <td>Electronic check</td>\n",
       "      <td>70.70</td>\n",
       "      <td>151.65</td>\n",
       "      <td>Yes</td>\n",
       "    </tr>\n",
       "  </tbody>\n",
       "</table>\n",
       "<p>5 rows × 21 columns</p>\n",
       "</div>"
      ],
      "text/plain": [
       "   customerID  gender  SeniorCitizen Partner Dependents  tenure PhoneService  \\\n",
       "0  7590-VHVEG  Female              0     Yes         No       1           No   \n",
       "1  5575-GNVDE    Male              0      No         No      34          Yes   \n",
       "2  3668-QPYBK    Male              0      No         No       2          Yes   \n",
       "3  7795-CFOCW    Male              0      No         No      45           No   \n",
       "4  9237-HQITU  Female              0      No         No       2          Yes   \n",
       "\n",
       "      MultipleLines InternetService OnlineSecurity  ... DeviceProtection  \\\n",
       "0  No phone service             DSL             No  ...               No   \n",
       "1                No             DSL            Yes  ...              Yes   \n",
       "2                No             DSL            Yes  ...               No   \n",
       "3  No phone service             DSL            Yes  ...              Yes   \n",
       "4                No     Fiber optic             No  ...               No   \n",
       "\n",
       "  TechSupport StreamingTV StreamingMovies        Contract PaperlessBilling  \\\n",
       "0          No          No              No  Month-to-month              Yes   \n",
       "1          No          No              No        One year               No   \n",
       "2          No          No              No  Month-to-month              Yes   \n",
       "3         Yes          No              No        One year               No   \n",
       "4          No          No              No  Month-to-month              Yes   \n",
       "\n",
       "               PaymentMethod MonthlyCharges  TotalCharges Churn  \n",
       "0           Electronic check          29.85         29.85    No  \n",
       "1               Mailed check          56.95        1889.5    No  \n",
       "2               Mailed check          53.85        108.15   Yes  \n",
       "3  Bank transfer (automatic)          42.30       1840.75    No  \n",
       "4           Electronic check          70.70        151.65   Yes  \n",
       "\n",
       "[5 rows x 21 columns]"
      ]
     },
     "execution_count": 3,
     "metadata": {},
     "output_type": "execute_result"
    }
   ],
   "source": [
    "df.head(5)"
   ]
  },
  {
   "cell_type": "code",
   "execution_count": 4,
   "id": "5db87ba8",
   "metadata": {},
   "outputs": [
    {
     "data": {
      "text/plain": [
       "customerID          0\n",
       "gender              0\n",
       "SeniorCitizen       0\n",
       "Partner             0\n",
       "Dependents          0\n",
       "tenure              0\n",
       "PhoneService        0\n",
       "MultipleLines       0\n",
       "InternetService     0\n",
       "OnlineSecurity      0\n",
       "OnlineBackup        0\n",
       "DeviceProtection    0\n",
       "TechSupport         0\n",
       "StreamingTV         0\n",
       "StreamingMovies     0\n",
       "Contract            0\n",
       "PaperlessBilling    0\n",
       "PaymentMethod       0\n",
       "MonthlyCharges      0\n",
       "TotalCharges        0\n",
       "Churn               0\n",
       "dtype: int64"
      ]
     },
     "execution_count": 4,
     "metadata": {},
     "output_type": "execute_result"
    }
   ],
   "source": [
    "# checking for null values\n",
    "df.isna().sum()"
   ]
  },
  {
   "cell_type": "code",
   "execution_count": 5,
   "id": "30a74ba1",
   "metadata": {},
   "outputs": [
    {
     "name": "stdout",
     "output_type": "stream",
     "text": [
      "customerID  : 7043  \n",
      " ['7590-VHVEG' '5575-GNVDE' '3668-QPYBK' ... '4801-JZAZL' '8361-LTMKD'\n",
      " '3186-AJIEK'] \n",
      "\n",
      "gender  : 2  \n",
      " ['Female' 'Male'] \n",
      "\n",
      "SeniorCitizen  : 2  \n",
      " [0 1] \n",
      "\n",
      "Partner  : 2  \n",
      " ['Yes' 'No'] \n",
      "\n",
      "Dependents  : 2  \n",
      " ['No' 'Yes'] \n",
      "\n",
      "tenure  : 73  \n",
      " [ 1 34  2 45  8 22 10 28 62 13 16 58 49 25 69 52 71 21 12 30 47 72 17 27\n",
      "  5 46 11 70 63 43 15 60 18 66  9  3 31 50 64 56  7 42 35 48 29 65 38 68\n",
      " 32 55 37 36 41  6  4 33 67 23 57 61 14 20 53 40 59 24 44 19 54 51 26  0\n",
      " 39] \n",
      "\n",
      "PhoneService  : 2  \n",
      " ['No' 'Yes'] \n",
      "\n",
      "MultipleLines  : 3  \n",
      " ['No phone service' 'No' 'Yes'] \n",
      "\n",
      "InternetService  : 3  \n",
      " ['DSL' 'Fiber optic' 'No'] \n",
      "\n",
      "OnlineSecurity  : 3  \n",
      " ['No' 'Yes' 'No internet service'] \n",
      "\n",
      "OnlineBackup  : 3  \n",
      " ['Yes' 'No' 'No internet service'] \n",
      "\n",
      "DeviceProtection  : 3  \n",
      " ['No' 'Yes' 'No internet service'] \n",
      "\n",
      "TechSupport  : 3  \n",
      " ['No' 'Yes' 'No internet service'] \n",
      "\n",
      "StreamingTV  : 3  \n",
      " ['No' 'Yes' 'No internet service'] \n",
      "\n",
      "StreamingMovies  : 3  \n",
      " ['No' 'Yes' 'No internet service'] \n",
      "\n",
      "Contract  : 3  \n",
      " ['Month-to-month' 'One year' 'Two year'] \n",
      "\n",
      "PaperlessBilling  : 2  \n",
      " ['Yes' 'No'] \n",
      "\n",
      "PaymentMethod  : 4  \n",
      " ['Electronic check' 'Mailed check' 'Bank transfer (automatic)'\n",
      " 'Credit card (automatic)'] \n",
      "\n",
      "MonthlyCharges  : 1585  \n",
      " [29.85 56.95 53.85 ... 63.1  44.2  78.7 ] \n",
      "\n",
      "TotalCharges  : 6531  \n",
      " ['29.85' '1889.5' '108.15' ... '346.45' '306.6' '6844.5'] \n",
      "\n",
      "Churn  : 2  \n",
      " ['No' 'Yes'] \n",
      "\n"
     ]
    }
   ],
   "source": [
    "# printing the columns and their unique values\n",
    "for col in df.columns:\n",
    "    print (F\"{col}  : {len(df[col].unique())}  \\n {df[col].unique()} \\n\")"
   ]
  },
  {
   "cell_type": "code",
   "execution_count": 6,
   "id": "8b2cf5dd",
   "metadata": {},
   "outputs": [
    {
     "name": "stdout",
     "output_type": "stream",
     "text": [
      "<class 'pandas.core.frame.DataFrame'>\n",
      "RangeIndex: 7043 entries, 0 to 7042\n",
      "Data columns (total 21 columns):\n",
      " #   Column            Non-Null Count  Dtype  \n",
      "---  ------            --------------  -----  \n",
      " 0   customerID        7043 non-null   object \n",
      " 1   gender            7043 non-null   object \n",
      " 2   SeniorCitizen     7043 non-null   int64  \n",
      " 3   Partner           7043 non-null   object \n",
      " 4   Dependents        7043 non-null   object \n",
      " 5   tenure            7043 non-null   int64  \n",
      " 6   PhoneService      7043 non-null   object \n",
      " 7   MultipleLines     7043 non-null   object \n",
      " 8   InternetService   7043 non-null   object \n",
      " 9   OnlineSecurity    7043 non-null   object \n",
      " 10  OnlineBackup      7043 non-null   object \n",
      " 11  DeviceProtection  7043 non-null   object \n",
      " 12  TechSupport       7043 non-null   object \n",
      " 13  StreamingTV       7043 non-null   object \n",
      " 14  StreamingMovies   7043 non-null   object \n",
      " 15  Contract          7043 non-null   object \n",
      " 16  PaperlessBilling  7043 non-null   object \n",
      " 17  PaymentMethod     7043 non-null   object \n",
      " 18  MonthlyCharges    7043 non-null   float64\n",
      " 19  TotalCharges      7043 non-null   object \n",
      " 20  Churn             7043 non-null   object \n",
      "dtypes: float64(1), int64(2), object(18)\n",
      "memory usage: 1.1+ MB\n"
     ]
    }
   ],
   "source": [
    "# getting general information about the data\n",
    "df.info()"
   ]
  },
  {
   "cell_type": "code",
   "execution_count": 7,
   "id": "03f81c78",
   "metadata": {},
   "outputs": [
    {
     "data": {
      "text/html": [
       "<div>\n",
       "<style scoped>\n",
       "    .dataframe tbody tr th:only-of-type {\n",
       "        vertical-align: middle;\n",
       "    }\n",
       "\n",
       "    .dataframe tbody tr th {\n",
       "        vertical-align: top;\n",
       "    }\n",
       "\n",
       "    .dataframe thead th {\n",
       "        text-align: right;\n",
       "    }\n",
       "</style>\n",
       "<table border=\"1\" class=\"dataframe\">\n",
       "  <thead>\n",
       "    <tr style=\"text-align: right;\">\n",
       "      <th></th>\n",
       "      <th>SeniorCitizen</th>\n",
       "      <th>tenure</th>\n",
       "      <th>MonthlyCharges</th>\n",
       "    </tr>\n",
       "  </thead>\n",
       "  <tbody>\n",
       "    <tr>\n",
       "      <th>count</th>\n",
       "      <td>7043.000000</td>\n",
       "      <td>7043.000000</td>\n",
       "      <td>7043.000000</td>\n",
       "    </tr>\n",
       "    <tr>\n",
       "      <th>mean</th>\n",
       "      <td>0.162147</td>\n",
       "      <td>32.371149</td>\n",
       "      <td>64.761692</td>\n",
       "    </tr>\n",
       "    <tr>\n",
       "      <th>std</th>\n",
       "      <td>0.368612</td>\n",
       "      <td>24.559481</td>\n",
       "      <td>30.090047</td>\n",
       "    </tr>\n",
       "    <tr>\n",
       "      <th>min</th>\n",
       "      <td>0.000000</td>\n",
       "      <td>0.000000</td>\n",
       "      <td>18.250000</td>\n",
       "    </tr>\n",
       "    <tr>\n",
       "      <th>25%</th>\n",
       "      <td>0.000000</td>\n",
       "      <td>9.000000</td>\n",
       "      <td>35.500000</td>\n",
       "    </tr>\n",
       "    <tr>\n",
       "      <th>50%</th>\n",
       "      <td>0.000000</td>\n",
       "      <td>29.000000</td>\n",
       "      <td>70.350000</td>\n",
       "    </tr>\n",
       "    <tr>\n",
       "      <th>75%</th>\n",
       "      <td>0.000000</td>\n",
       "      <td>55.000000</td>\n",
       "      <td>89.850000</td>\n",
       "    </tr>\n",
       "    <tr>\n",
       "      <th>max</th>\n",
       "      <td>1.000000</td>\n",
       "      <td>72.000000</td>\n",
       "      <td>118.750000</td>\n",
       "    </tr>\n",
       "  </tbody>\n",
       "</table>\n",
       "</div>"
      ],
      "text/plain": [
       "       SeniorCitizen       tenure  MonthlyCharges\n",
       "count    7043.000000  7043.000000     7043.000000\n",
       "mean        0.162147    32.371149       64.761692\n",
       "std         0.368612    24.559481       30.090047\n",
       "min         0.000000     0.000000       18.250000\n",
       "25%         0.000000     9.000000       35.500000\n",
       "50%         0.000000    29.000000       70.350000\n",
       "75%         0.000000    55.000000       89.850000\n",
       "max         1.000000    72.000000      118.750000"
      ]
     },
     "execution_count": 7,
     "metadata": {},
     "output_type": "execute_result"
    }
   ],
   "source": [
    "df.describe()"
   ]
  },
  {
   "cell_type": "markdown",
   "id": "06bc18ac",
   "metadata": {},
   "source": [
    "# Visualize Data"
   ]
  },
  {
   "cell_type": "code",
   "execution_count": 8,
   "id": "a0360597",
   "metadata": {},
   "outputs": [],
   "source": [
    "from matplotlib import pyplot as plt\n",
    "import seaborn as sns"
   ]
  },
  {
   "cell_type": "code",
   "execution_count": 9,
   "id": "7f8a6380",
   "metadata": {},
   "outputs": [
    {
     "data": {
      "text/plain": [
       "<AxesSubplot:ylabel='gender'>"
      ]
     },
     "execution_count": 9,
     "metadata": {},
     "output_type": "execute_result"
    },
    {
     "data": {
      "image/png": "[encoded data removed]",
      "text/plain": [
       "<Figure size 432x288 with 1 Axes>"
      ]
     },
     "metadata": {},
     "output_type": "display_data"
    }
   ],
   "source": [
    "# checking the number of female and males\n",
    "df['gender'].value_counts().plot(kind='pie')"
   ]
  },
  {
   "cell_type": "code",
   "execution_count": 10,
   "id": "b04a4928",
   "metadata": {},
   "outputs": [
    {
     "data": {
      "text/plain": [
       "<AxesSubplot:ylabel='SeniorCitizen'>"
      ]
     },
     "execution_count": 10,
     "metadata": {},
     "output_type": "execute_result"
    },
    {
     "data": {
      "image/png": "[encoded data removed]",
      "text/plain": [
       "<Figure size 432x288 with 1 Axes>"
      ]
     },
     "metadata": {},
     "output_type": "display_data"
    }
   ],
   "source": [
    "# checking the number of Senior Citizen\n",
    "df['SeniorCitizen'].value_counts().plot(kind='pie')"
   ]
  },
  {
   "cell_type": "code",
   "execution_count": 11,
   "id": "530f5c94",
   "metadata": {},
   "outputs": [
    {
     "data": {
      "text/plain": [
       "<AxesSubplot:ylabel='Churn'>"
      ]
     },
     "execution_count": 11,
     "metadata": {},
     "output_type": "execute_result"
    },
    {
     "data": {
      "image/png": "[encoded data removed]",
      "text/plain": [
       "<Figure size 432x288 with 1 Axes>"
      ]
     },
     "metadata": {},
     "output_type": "display_data"
    }
   ],
   "source": [
    "# checking the number of churn vs no churn\n",
    "# impalnced data for the target\n",
    "df['Churn'].value_counts().plot(kind='pie')"
   ]
  },
  {
   "cell_type": "code",
   "execution_count": 12,
   "id": "e7232d89",
   "metadata": {},
   "outputs": [
    {
     "data": {
      "text/plain": [
       "Text(0.5, 1.0, 'MonthlyCharges for males\\n')"
      ]
     },
     "execution_count": 12,
     "metadata": {},
     "output_type": "execute_result"
    },
    {
     "data": {
      "text/plain": [
       "<Figure size 1152x504 with 0 Axes>"
      ]
     },
     "metadata": {},
     "output_type": "display_data"
    },
    {
     "data": {
      "image/png": "[encoded data removed]",
      "text/plain": [
       "<Figure size 360x360 with 1 Axes>"
      ]
     },
     "metadata": {
      "needs_background": "light"
     },
     "output_type": "display_data"
    }
   ],
   "source": [
    "plt.figure(figsize=(16,7))\n",
    "sns.displot(df[df['gender']=='Male']['MonthlyCharges'],kde=False)\n",
    "plt.title('MonthlyCharges for males\\n')"
   ]
  },
  {
   "cell_type": "code",
   "execution_count": 13,
   "id": "7566302f",
   "metadata": {},
   "outputs": [
    {
     "data": {
      "text/plain": [
       "Text(0.5, 1.0, 'MonthlyCharges for Females\\n')"
      ]
     },
     "execution_count": 13,
     "metadata": {},
     "output_type": "execute_result"
    },
    {
     "data": {
      "text/plain": [
       "<Figure size 1152x504 with 0 Axes>"
      ]
     },
     "metadata": {},
     "output_type": "display_data"
    },
    {
     "data": {
      "image/png": "[encoded data removed]",
      "text/plain": [
       "<Figure size 360x360 with 1 Axes>"
      ]
     },
     "metadata": {
      "needs_background": "light"
     },
     "output_type": "display_data"
    }
   ],
   "source": [
    "plt.figure(figsize=(16,7))\n",
    "sns.displot(df[df['gender']=='Female']['MonthlyCharges'],kde=False)\n",
    "plt.title('MonthlyCharges for Females\\n')"
   ]
  },
  {
   "cell_type": "markdown",
   "id": "28d34486",
   "metadata": {},
   "source": [
    "# Data Preparation"
   ]
  },
  {
   "cell_type": "code",
   "execution_count": 14,
   "id": "11363299",
   "metadata": {},
   "outputs": [],
   "source": [
    "# droping the customerID columns\n",
    "df.drop('customerID',axis=1,inplace=True)"
   ]
  },
  {
   "cell_type": "code",
   "execution_count": 15,
   "id": "3aae7482",
   "metadata": {},
   "outputs": [],
   "source": [
    "# changing the TotalCharges because when i did df.info() i fount out that TotalCharges is an object \n",
    "df.TotalCharges = pd.to_numeric(df.TotalCharges, errors='coerce')"
   ]
  },
  {
   "cell_type": "code",
   "execution_count": 16,
   "id": "f84a40e0",
   "metadata": {},
   "outputs": [],
   "source": [
    "# normalizing the data\n",
    "from sklearn import preprocessing\n",
    "\n",
    "\n",
    "\n",
    "numeric_feats = ['tenure', 'MonthlyCharges', 'TotalCharges']\n",
    "df_numeric_feats = pd.DataFrame(df, columns = numeric_feats)\n",
    "df_categ_feats = df.drop(columns = numeric_feats)\n",
    "\n",
    "\n",
    "min_max_scaler = preprocessing.MinMaxScaler()\n",
    "normalized_numeric_feats = min_max_scaler.fit_transform(df_numeric_feats)\n",
    "normalized_numeric_feats = pd.DataFrame(normalized_numeric_feats, columns = numeric_feats, index=df_categ_feats.index)\n",
    "\n"
   ]
  },
  {
   "cell_type": "code",
   "execution_count": 19,
   "id": "683ccc66",
   "metadata": {},
   "outputs": [],
   "source": [
    "from sklearn import preprocessing\n",
    "label_encoder = preprocessing.LabelEncoder()"
   ]
  },
  {
   "cell_type": "code",
   "execution_count": 17,
   "id": "cda04fb0",
   "metadata": {},
   "outputs": [],
   "source": [
    "df_numeric_norm = pd.concat([df_categ_feats, normalized_numeric_feats], axis=1)"
   ]
  },
  {
   "cell_type": "code",
   "execution_count": 20,
   "id": "b00a7378",
   "metadata": {},
   "outputs": [],
   "source": [
    "# defining the ame of the columns that we will normalize\n",
    "columns = ['gender','Partner','Dependents','PhoneService','MultipleLines','InternetService','OnlineSecurity','OnlineBackup','DeviceProtection','TechSupport','StreamingTV','StreamingMovies','Contract','PaperlessBilling','PaymentMethod','Churn']"
   ]
  },
  {
   "cell_type": "code",
   "execution_count": 21,
   "id": "bf7760df",
   "metadata": {},
   "outputs": [],
   "source": [
    "# encoding the data \n",
    "for col in columns:\n",
    "    df_numeric_norm[col]= label_encoder.fit_transform(df_numeric_norm[col])\n",
    "    "
   ]
  },
  {
   "cell_type": "code",
   "execution_count": 18,
   "id": "b789ddb4",
   "metadata": {},
   "outputs": [],
   "source": [
    "# droping null values\n",
    "df_numeric_norm =df_numeric_norm.dropna()"
   ]
  },
  {
   "cell_type": "code",
   "execution_count": 23,
   "id": "5308ee2b",
   "metadata": {},
   "outputs": [
    {
     "name": "stdout",
     "output_type": "stream",
     "text": [
      "[0.02817658 0.0199462  0.02193277 0.01966459 0.00491617 0.02235919\n",
      " 0.02425796 0.04739543 0.02952178 0.02610197 0.03834747 0.01775391\n",
      " 0.0176769  0.07608446 0.02506277 0.05049771 0.15713635 0.18018263\n",
      " 0.19298516]\n"
     ]
    }
   ],
   "source": [
    "# checking the importance of the features\n",
    "from sklearn.ensemble import RandomForestClassifier\n",
    "df = df_numeric_norm.dropna()\n",
    "X = df_numeric_norm.drop('Churn',axis=1)\n",
    "y = df_numeric_norm.Churn\n",
    "model = RandomForestClassifier()\n",
    "model.fit(X,y)\n",
    "\n",
    "print(model.feature_importances_)\n"
   ]
  },
  {
   "cell_type": "code",
   "execution_count": 24,
   "id": "27ba02c1",
   "metadata": {},
   "outputs": [
    {
     "data": {
      "image/png": "[encoded data removed]",
      "text/plain": [
       "<Figure size 1440x432 with 1 Axes>"
      ]
     },
     "metadata": {
      "needs_background": "light"
     },
     "output_type": "display_data"
    }
   ],
   "source": [
    "# ploting  feature importances\n",
    "from matplotlib import pyplot as plt\n",
    "plt.figure(figsize=(20,6))\n",
    "feat_importances = pd.Series(model.feature_importances_, index=X.columns)\n",
    "feat_importances.nlargest(20).plot(kind='barh')\n",
    "plt.show()"
   ]
  },
  {
   "cell_type": "code",
   "execution_count": 25,
   "id": "cd6009b5",
   "metadata": {},
   "outputs": [],
   "source": [
    "# droping the useless features\n",
    "data1 = df_numeric_norm.drop(columns=['PhoneService','StreamingTV','StreamingMovies','Dependents','SeniorCitizen','MultipleLines','Partner','PaperlessBilling','DeviceProtection','OnlineBackup','InternetService','gender','OnlineSecurity','PaymentMethod','TechSupport','OnlineSecurity','PaymentMethod'])"
   ]
  },
  {
   "cell_type": "code",
   "execution_count": 26,
   "id": "823bdd5f",
   "metadata": {},
   "outputs": [],
   "source": [
    "# defining the features and target\n",
    "x1 = data1.drop('Churn',axis= 1)\n",
    "y1 = data1['Churn']"
   ]
  },
  {
   "cell_type": "code",
   "execution_count": 27,
   "id": "0785a9f1",
   "metadata": {},
   "outputs": [
    {
     "data": {
      "text/plain": [
       "0    5163\n",
       "1    5163\n",
       "Name: Churn, dtype: int64"
      ]
     },
     "execution_count": 27,
     "metadata": {},
     "output_type": "execute_result"
    }
   ],
   "source": [
    "# fixing the imbalanced data\n",
    "from imblearn.over_sampling import SMOTE\n",
    "\n",
    "smote = SMOTE(sampling_strategy='minority')\n",
    "X_sm, y_sm = smote.fit_resample(x1, y1)\n",
    "\n",
    "y_sm.value_counts()"
   ]
  },
  {
   "cell_type": "code",
   "execution_count": 28,
   "id": "dbdb1da7",
   "metadata": {},
   "outputs": [],
   "source": [
    "# spliting put data\n",
    "from sklearn.model_selection import train_test_split\n",
    "X_train, X_test, y_train, y_test = train_test_split(X_sm, y_sm, test_size=0.2, random_state=15, stratify=y_sm)"
   ]
  },
  {
   "cell_type": "markdown",
   "id": "c47e9321",
   "metadata": {},
   "source": [
    "# Modelling "
   ]
  },
  {
   "cell_type": "code",
   "execution_count": 29,
   "id": "0f4a2e5e",
   "metadata": {},
   "outputs": [],
   "source": [
    "from sklearn.pipeline import make_pipeline\n",
    "from sklearn.neighbors import KNeighborsClassifier\n",
    "from sklearn.linear_model import LogisticRegression\n",
    "from sklearn.ensemble import RandomForestClassifier\n",
    "from xgboost import XGBClassifier"
   ]
  },
  {
   "cell_type": "code",
   "execution_count": 31,
   "id": "2b1837f0",
   "metadata": {},
   "outputs": [],
   "source": [
    "# defining the hypergrid \n",
    "hypergrid ={\n",
    "   \n",
    "\n",
    "    'knn':{\n",
    "        'kneighborsclassifier__n_neighbors': np.arange(27, 30),\n",
    "        'kneighborsclassifier__leaf_size' : list(range(1,50)),\n",
    "       'kneighborsclassifier__p':[1,2],\n",
    "        'kneighborsclassifier__weights' : ['uniform','distance'],\n",
    "        'kneighborsclassifier__metric' : ['minkowski','euclidean','manhattan']\n",
    "         \n",
    "    },\n",
    "    'lr':{\n",
    "        'logisticregression__penalty':['l1', 'l2', 'elasticnet', 'none'],\n",
    "        'logisticregression__C': np.arange(.5, 10, .5),\n",
    "        'logisticregression__solver':['newton-cg', 'lbfgs', 'liblinear', 'sag', 'saga'],\n",
    "        'logisticregression__class_weight' :['dict' , 'balanced', 'None'],\n",
    "        'logisticregression__max_iter' : [100, 1000,2500, 5000]\n",
    "    },\n",
    "    \n",
    "  'rf':  {\n",
    "'randomforestclassifier__n_estimators':[5,20,50,100] ,\n",
    "'randomforestclassifier__max_features' : ['auto', 'sqrt'], \n",
    "'randomforestclassifier__max_depth' :[int(x) for x in np.linspace(10, 120, num = 12)] ,\n",
    "'randomforestclassifier__min_samples_split' : [2, 6, 10], \n",
    "'randomforestclassifier__min_samples_leaf' : [1, 3, 4],\n",
    "'randomforestclassifier__bootstrap' : [True, False],\n",
    "  },\n",
    "    'xgb' :   {\n",
    "    'xgbclassifier__learning_rate': [0.01, 0.03, 0.06, 0.1, 0.15, 0.2, 0.25, 0.300000012, 0.4, 0.5, 0.6, 0.7],\n",
    "    }\n",
    "        \n",
    "}"
   ]
  },
  {
   "cell_type": "code",
   "execution_count": 33,
   "id": "1bcd1e3e",
   "metadata": {},
   "outputs": [],
   "source": [
    "# defining the pipelines\n",
    "pipelines = {\n",
    "    \n",
    "      \n",
    "        'knn':make_pipeline(KNeighborsClassifier()),\n",
    " 'lr':make_pipeline(LogisticRegression()),\n",
    "    'rf':make_pipeline(RandomForestClassifier()),\n",
    "    'xgb':make_pipeline(XGBClassifier())\n",
    "        \n",
    "}"
   ]
  },
  {
   "cell_type": "code",
   "execution_count": 34,
   "id": "42cc3ef2",
   "metadata": {},
   "outputs": [],
   "source": [
    "from sklearn.model_selection import GridSearchCV\n",
    "from sklearn.exceptions import NotFittedError\n",
    "\n",
    "import warnings\n",
    "warnings.filterwarnings('ignore')"
   ]
  },
  {
   "cell_type": "code",
   "execution_count": 35,
   "id": "7c196cec",
   "metadata": {
    "scrolled": true
   },
   "outputs": [
    {
     "name": "stdout",
     "output_type": "stream",
     "text": [
      "Starting training for knn\n",
      "knn has been successfully fit\n",
      "Starting training for lr\n",
      "lr has been successfully fit\n",
      "Starting training for rf\n",
      "rf has been successfully fit\n",
      "Starting training for xgb\n",
      "[12:57:17] WARNING: C:/Users/Administrator/workspace/xgboost-win64_release_1.5.0/src/learner.cc:1115: Starting in XGBoost 1.3.0, the default evaluation metric used with the objective 'binary:logistic' was changed from 'error' to 'logloss'. Explicitly set eval_metric if you'd like to restore the old behavior.\n",
      "xgb has been successfully fit\n"
     ]
    }
   ],
   "source": [
    "fit_model ={}\n",
    "for algo ,pipeline in pipelines.items():\n",
    "        #finding the best hyperparameters for our model\n",
    "        model= GridSearchCV(pipeline,hypergrid[algo],cv=3,n_jobs=5)\n",
    "        try:\n",
    "            print('Starting training for {}'.format(algo))\n",
    "            # fitting the model\n",
    "            model.fit(X_train,y_train)\n",
    "            #puttin the model in fit_model[]\n",
    "            fit_model[algo]=model\n",
    "            print('{} has been successfully fit'.format(algo))\n",
    "        except NotFittedError as e:\n",
    "            print(report(e))\n",
    "            "
   ]
  },
  {
   "cell_type": "markdown",
   "id": "628767cb",
   "metadata": {},
   "source": [
    "# Evaluation "
   ]
  },
  {
   "cell_type": "code",
   "execution_count": 36,
   "id": "e7b0756b",
   "metadata": {},
   "outputs": [
    {
     "name": "stdout",
     "output_type": "stream",
     "text": [
      "knn               precision    recall  f1-score   support\n",
      "\n",
      "           0       0.82      0.75      0.78      1033\n",
      "           1       0.77      0.84      0.80      1033\n",
      "\n",
      "    accuracy                           0.79      2066\n",
      "   macro avg       0.79      0.79      0.79      2066\n",
      "weighted avg       0.79      0.79      0.79      2066\n",
      " \n",
      "\n",
      "lr               precision    recall  f1-score   support\n",
      "\n",
      "           0       0.79      0.68      0.73      1033\n",
      "           1       0.72      0.82      0.77      1033\n",
      "\n",
      "    accuracy                           0.75      2066\n",
      "   macro avg       0.75      0.75      0.75      2066\n",
      "weighted avg       0.75      0.75      0.75      2066\n",
      " \n",
      "\n",
      "rf               precision    recall  f1-score   support\n",
      "\n",
      "           0       0.80      0.79      0.80      1033\n",
      "           1       0.79      0.81      0.80      1033\n",
      "\n",
      "    accuracy                           0.80      2066\n",
      "   macro avg       0.80      0.80      0.80      2066\n",
      "weighted avg       0.80      0.80      0.80      2066\n",
      " \n",
      "\n",
      "xgb               precision    recall  f1-score   support\n",
      "\n",
      "           0       0.80      0.79      0.80      1033\n",
      "           1       0.79      0.80      0.80      1033\n",
      "\n",
      "    accuracy                           0.80      2066\n",
      "   macro avg       0.80      0.80      0.80      2066\n",
      "weighted avg       0.80      0.80      0.80      2066\n",
      " \n",
      "\n"
     ]
    }
   ],
   "source": [
    "from sklearn.metrics import classification_report\n",
    "from sklearn.model_selection import cross_val_score\n",
    "\n",
    "for algo,model in fit_model.items():\n",
    "    yhat = model.predict(X_test)\n",
    "    print(algo,classification_report(y_test,   yhat),'\\n')"
   ]
  },
  {
   "cell_type": "markdown",
   "id": "0ad1a5a3",
   "metadata": {},
   "source": [
    "# Saving and Loading the model "
   ]
  },
  {
   "cell_type": "code",
   "execution_count": 41,
   "id": "6a5a312b",
   "metadata": {},
   "outputs": [],
   "source": [
    "import pickle"
   ]
  },
  {
   "cell_type": "code",
   "execution_count": 38,
   "id": "a8190d98",
   "metadata": {},
   "outputs": [],
   "source": [
    "best_model = fit_model['xgb']"
   ]
  },
  {
   "cell_type": "code",
   "execution_count": 42,
   "id": "3b7cc6a0",
   "metadata": {},
   "outputs": [],
   "source": [
    "pickle.dump(best_model, open(\"trained_model/model.h\", 'wb'))"
   ]
  },
  {
   "cell_type": "code",
   "execution_count": 43,
   "id": "b96f0267",
   "metadata": {},
   "outputs": [],
   "source": [
    "loaded_model = pickle.load(open(\"trained_model/model.h\", 'rb'))"
   ]
  }
 ],
 "metadata": {
  "kernelspec": {
   "display_name": "Python 3",
   "language": "python",
   "name": "python3"
  },
  "language_info": {
   "codemirror_mode": {
    "name": "ipython",
    "version": 3
   },
   "file_extension": ".py",
   "mimetype": "text/x-python",
   "name": "python",
   "nbconvert_exporter": "python",
   "pygments_lexer": "ipython3",
   "version": "3.8.8"
  }
 },
 "nbformat": 4,
 "nbformat_minor": 5
}
